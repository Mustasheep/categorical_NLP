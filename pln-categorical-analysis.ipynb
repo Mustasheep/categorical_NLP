{
 "cells": [
  {
   "cell_type": "markdown",
   "id": "07151675",
   "metadata": {
    "papermill": {
     "duration": 0.005173,
     "end_time": "2025-01-28T19:41:20.886288",
     "exception": false,
     "start_time": "2025-01-28T19:41:20.881115",
     "status": "completed"
    },
    "tags": []
   },
   "source": [
    "## Introdução\n",
    "\n",
    "Este é um projeto de Processamento de Linguagem Natural (PLN) e tem o objetivo de prever textos de notícias (principalmente o título da matéria) e classificar em suas devidas categorias."
   ]
  },
  {
   "cell_type": "code",
   "execution_count": 1,
   "id": "cfd05647",
   "metadata": {
    "execution": {
     "iopub.execute_input": "2025-01-28T19:41:20.896322Z",
     "iopub.status.busy": "2025-01-28T19:41:20.895905Z",
     "iopub.status.idle": "2025-01-28T19:41:20.901652Z",
     "shell.execute_reply": "2025-01-28T19:41:20.900577Z"
    },
    "id": "0ale9Mjn2imi",
    "papermill": {
     "duration": 0.012538,
     "end_time": "2025-01-28T19:41:20.903369",
     "exception": false,
     "start_time": "2025-01-28T19:41:20.890831",
     "status": "completed"
    },
    "tags": []
   },
   "outputs": [],
   "source": [
    "# Ocultando mensagens de erro\n",
    "import warnings\n",
    "warnings.filterwarnings('ignore')"
   ]
  },
  {
   "cell_type": "markdown",
   "id": "42f7bc02",
   "metadata": {
    "id": "jzIJBTPX4DeW",
    "papermill": {
     "duration": 0.003924,
     "end_time": "2025-01-28T19:41:20.911716",
     "exception": false,
     "start_time": "2025-01-28T19:41:20.907792",
     "status": "completed"
    },
    "tags": []
   },
   "source": [
    "## Importando bibliotecas\n",
    "Para este projeto, irei utilizar um grande conjunto de bibliotecas:\n",
    "\n",
    "**Manipulação de dados:**\n",
    "  - `pandas` para manipular meus dados e preparar o DataFrame para PLN\n",
    "      \n",
    "**Pré-Processamento de texto:**\n",
    "  - `re` para remoção de diversos caracteres\n",
    "  - `spacy` para lematização de palavras da lingua portuguesa\n",
    "  - `nltk` para remoção de stopwords, tokenização e lematização\n",
    "  - `unidecode` para preservar acentuações da lingua portuguesa\n",
    "      \n",
    "**Vetorização e treinamento:**\n",
    " - Várias importações de pacotes do `sklearn` para diversos fins de vetorização, treinamento, modelo e métricas de avaliação.\n",
    "\n",
    "**Dependências:**\n",
    " - Serão baixadas algumas dependências para serem aplicadas no pré-processamento     "
   ]
  },
  {
   "cell_type": "code",
   "execution_count": 2,
   "id": "e77303ee",
   "metadata": {
    "execution": {
     "iopub.execute_input": "2025-01-28T19:41:20.921175Z",
     "iopub.status.busy": "2025-01-28T19:41:20.920761Z",
     "iopub.status.idle": "2025-01-28T19:41:40.843882Z",
     "shell.execute_reply": "2025-01-28T19:41:40.842539Z"
    },
    "papermill": {
     "duration": 19.930199,
     "end_time": "2025-01-28T19:41:40.845990",
     "exception": false,
     "start_time": "2025-01-28T19:41:20.915791",
     "status": "completed"
    },
    "tags": []
   },
   "outputs": [],
   "source": [
    "!pip install unidecode > /dev/null\n",
    "!python -m spacy download pt_core_news_sm > /dev/null\n",
    "\n",
    "# No kaggle, lembre-se de habilitar a internet em \"Settings > Turn on internet\""
   ]
  },
  {
   "cell_type": "code",
   "execution_count": 3,
   "id": "eb4c322c",
   "metadata": {
    "execution": {
     "iopub.execute_input": "2025-01-28T19:41:40.856339Z",
     "iopub.status.busy": "2025-01-28T19:41:40.855935Z",
     "iopub.status.idle": "2025-01-28T19:41:48.071610Z",
     "shell.execute_reply": "2025-01-28T19:41:48.070401Z"
    },
    "id": "ZXhJPHBL4GkV",
    "outputId": "2f0ec841-f335-4de1-86b8-0ac5ca75fe2a",
    "papermill": {
     "duration": 7.223088,
     "end_time": "2025-01-28T19:41:48.073721",
     "exception": false,
     "start_time": "2025-01-28T19:41:40.850633",
     "status": "completed"
    },
    "tags": []
   },
   "outputs": [
    {
     "name": "stdout",
     "output_type": "stream",
     "text": [
      "[nltk_data] Downloading package punkt_tab to /usr/share/nltk_data...\n",
      "[nltk_data]   Unzipping tokenizers/punkt_tab.zip.\n",
      "[nltk_data] Downloading package punkt to /usr/share/nltk_data...\n",
      "[nltk_data]   Package punkt is already up-to-date!\n",
      "[nltk_data] Downloading package stopwords to /usr/share/nltk_data...\n",
      "[nltk_data]   Package stopwords is already up-to-date!\n"
     ]
    },
    {
     "data": {
      "text/plain": [
       "True"
      ]
     },
     "execution_count": 3,
     "metadata": {},
     "output_type": "execute_result"
    }
   ],
   "source": [
    "# Importando...\n",
    "import pandas as pd\n",
    "\n",
    "import re\n",
    "import spacy\n",
    "import nltk\n",
    "from nltk.corpus import stopwords\n",
    "from nltk.tokenize import word_tokenize\n",
    "from unidecode import unidecode\n",
    "\n",
    "from sklearn.feature_extraction.text import TfidfVectorizer\n",
    "from sklearn.model_selection import train_test_split, GridSearchCV, StratifiedKFold\n",
    "from sklearn.linear_model import LogisticRegression\n",
    "from sklearn.metrics import accuracy_score, precision_score, recall_score, f1_score, classification_report\n",
    "\n",
    "# Dependências\n",
    "nltk.download('punkt_tab')\n",
    "nltk.download('punkt')\n",
    "nltk.download('stopwords')"
   ]
  },
  {
   "cell_type": "code",
   "execution_count": 4,
   "id": "81e813d2",
   "metadata": {
    "execution": {
     "iopub.execute_input": "2025-01-28T19:41:48.085894Z",
     "iopub.status.busy": "2025-01-28T19:41:48.085061Z",
     "iopub.status.idle": "2025-01-28T19:41:48.948443Z",
     "shell.execute_reply": "2025-01-28T19:41:48.947107Z"
    },
    "id": "P7IO-30h4G92",
    "papermill": {
     "duration": 0.872337,
     "end_time": "2025-01-28T19:41:48.951199",
     "exception": false,
     "start_time": "2025-01-28T19:41:48.078862",
     "status": "completed"
    },
    "tags": []
   },
   "outputs": [],
   "source": [
    "# Preparando uma função para o pré-processamento de textos em português\n",
    "nlp = spacy.load('pt_core_news_sm')\n",
    "\n",
    "def pre_processamento_texto(texto, lemmatize=True):\n",
    "    \"\"\"\n",
    "    A função irá remover tags HTML, acentos das palavras (permanecendo a letra),\n",
    "    caracteres especiais, URLs, espaços em branco extras, capitalizar letras em\n",
    "    minúsculas, remover números, tokenizar o texto, remover stopwords e lematizar.\n",
    "    \"\"\"\n",
    "    texto = re.sub(r'<.*?>', '', texto) # Remove tags HTML\n",
    "    texto = unidecode(texto) # Remove os acentos permanecendo as letras (incluindo ç)\n",
    "    texto = re.sub(r'[^a-zA-Z0-9\\s]', '', texto) # Remove caracteres especiais\n",
    "    texto = re.sub(r'http\\S+', '', texto) # Remove URLs\n",
    "    texto = re.sub(r'\\s+', ' ', texto) # Remove espaços em branco extras\n",
    "    texto = texto.strip() # Remove espaços em branco no início e no final\n",
    "    texto = texto.lower() # Converte para minúsculas\n",
    "    texto = re.sub(r'\\d+', '', texto) # Remove números\n",
    "    tokens = word_tokenize(texto) # converte o texto para tokens de palavras\n",
    "    stop_words = set(stopwords.words('portuguese')) # Remove preposições, artigos, conjunções, etc\n",
    "    tokens = [token for token in tokens if token not in stop_words] # Tokenização\n",
    "\n",
    "    if lemmatize:\n",
    "        tokens = [token.lemma_ for token in nlp(' '.join(tokens))] # Lematização\n",
    "\n",
    "    return \" \".join(tokens)"
   ]
  },
  {
   "cell_type": "markdown",
   "id": "2d31fa36",
   "metadata": {
    "id": "9aFEbikf4Tdd",
    "papermill": {
     "duration": 0.004643,
     "end_time": "2025-01-28T19:41:48.961165",
     "exception": false,
     "start_time": "2025-01-28T19:41:48.956522",
     "status": "completed"
    },
    "tags": []
   },
   "source": [
    "## Preparando dados"
   ]
  },
  {
   "cell_type": "code",
   "execution_count": 5,
   "id": "44196899",
   "metadata": {
    "execution": {
     "iopub.execute_input": "2025-01-28T19:41:48.972653Z",
     "iopub.status.busy": "2025-01-28T19:41:48.972198Z",
     "iopub.status.idle": "2025-01-28T19:41:49.037603Z",
     "shell.execute_reply": "2025-01-28T19:41:49.036235Z"
    },
    "id": "JLgLR91H4MW9",
    "outputId": "ff70c38e-fe76-44d8-eb3c-e90099c83690",
    "papermill": {
     "duration": 0.073581,
     "end_time": "2025-01-28T19:41:49.039611",
     "exception": false,
     "start_time": "2025-01-28T19:41:48.966030",
     "status": "completed"
    },
    "tags": []
   },
   "outputs": [
    {
     "name": "stdout",
     "output_type": "stream",
     "text": [
      "<class 'pandas.core.frame.DataFrame'>\n",
      "RangeIndex: 656 entries, 0 to 655\n",
      "Data columns (total 2 columns):\n",
      " #   Column     Non-Null Count  Dtype \n",
      "---  ------     --------------  ----- \n",
      " 0   texto      656 non-null    object\n",
      " 1   categoria  656 non-null    object\n",
      "dtypes: object(2)\n",
      "memory usage: 10.4+ KB\n"
     ]
    },
    {
     "data": {
      "text/html": [
       "<div>\n",
       "<style scoped>\n",
       "    .dataframe tbody tr th:only-of-type {\n",
       "        vertical-align: middle;\n",
       "    }\n",
       "\n",
       "    .dataframe tbody tr th {\n",
       "        vertical-align: top;\n",
       "    }\n",
       "\n",
       "    .dataframe thead th {\n",
       "        text-align: right;\n",
       "    }\n",
       "</style>\n",
       "<table border=\"1\" class=\"dataframe\">\n",
       "  <thead>\n",
       "    <tr style=\"text-align: right;\">\n",
       "      <th></th>\n",
       "      <th>texto</th>\n",
       "      <th>categoria</th>\n",
       "    </tr>\n",
       "  </thead>\n",
       "  <tbody>\n",
       "    <tr>\n",
       "      <th>0</th>\n",
       "      <td>Brasil vence a Argentina na final da Copa Amér...</td>\n",
       "      <td>Esporte</td>\n",
       "    </tr>\n",
       "    <tr>\n",
       "      <th>1</th>\n",
       "      <td>Inflação desacelera em julho, aliviando a pres...</td>\n",
       "      <td>Economia</td>\n",
       "    </tr>\n",
       "    <tr>\n",
       "      <th>2</th>\n",
       "      <td>Cientistas descobrem nova espécie de peixe nas...</td>\n",
       "      <td>Ciência</td>\n",
       "    </tr>\n",
       "    <tr>\n",
       "      <th>3</th>\n",
       "      <td>Presidente anuncia pacote de medidas para esti...</td>\n",
       "      <td>Economia</td>\n",
       "    </tr>\n",
       "    <tr>\n",
       "      <th>4</th>\n",
       "      <td>Ator famoso revela segredo sobre seu novo filme.</td>\n",
       "      <td>Entretenimento</td>\n",
       "    </tr>\n",
       "  </tbody>\n",
       "</table>\n",
       "</div>"
      ],
      "text/plain": [
       "                                               texto       categoria\n",
       "0  Brasil vence a Argentina na final da Copa Amér...         Esporte\n",
       "1  Inflação desacelera em julho, aliviando a pres...        Economia\n",
       "2  Cientistas descobrem nova espécie de peixe nas...         Ciência\n",
       "3  Presidente anuncia pacote de medidas para esti...        Economia\n",
       "4   Ator famoso revela segredo sobre seu novo filme.  Entretenimento"
      ]
     },
     "execution_count": 5,
     "metadata": {},
     "output_type": "execute_result"
    }
   ],
   "source": [
    "# O dataset foi preparado em outro projeto\n",
    "df = pd.read_csv('/kaggle/input/enquetes-noticias/frases_categorias.csv')\n",
    "df.info()\n",
    "df.head()"
   ]
  },
  {
   "cell_type": "code",
   "execution_count": 6,
   "id": "8b4db1f4",
   "metadata": {
    "execution": {
     "iopub.execute_input": "2025-01-28T19:41:49.052338Z",
     "iopub.status.busy": "2025-01-28T19:41:49.051836Z",
     "iopub.status.idle": "2025-01-28T19:41:49.061642Z",
     "shell.execute_reply": "2025-01-28T19:41:49.060187Z"
    },
    "id": "twM5Yhno7J2E",
    "outputId": "60ad0b83-32f0-45af-86d0-3f910c652f20",
    "papermill": {
     "duration": 0.018281,
     "end_time": "2025-01-28T19:41:49.063455",
     "exception": false,
     "start_time": "2025-01-28T19:41:49.045174",
     "status": "completed"
    },
    "tags": []
   },
   "outputs": [
    {
     "data": {
      "text/plain": [
       "categoria\n",
       "Entretenimento    125\n",
       "Política          103\n",
       "Economia           87\n",
       "Saúde              79\n",
       "Tecnologia         72\n",
       "Ciência            71\n",
       "Esporte            60\n",
       "Meio Ambiente      59\n",
       "Name: count, dtype: int64"
      ]
     },
     "execution_count": 6,
     "metadata": {},
     "output_type": "execute_result"
    }
   ],
   "source": [
    "df['categoria'].value_counts()"
   ]
  },
  {
   "cell_type": "markdown",
   "id": "cfbcf2d5",
   "metadata": {
    "id": "xLKVefjSX7fW",
    "papermill": {
     "duration": 0.004728,
     "end_time": "2025-01-28T19:41:49.073922",
     "exception": false,
     "start_time": "2025-01-28T19:41:49.069194",
     "status": "completed"
    },
    "tags": []
   },
   "source": [
    "Existe um desbalanceamento nas quantidades das amostras dentro das categorias. Será necessário fazer um ajustamento na quantidade para balancear, mas provavelmente o uso de pesos irá resolver esse problema."
   ]
  },
  {
   "cell_type": "markdown",
   "id": "c9b5919a",
   "metadata": {
    "id": "iZ7KXaZ84aJV",
    "papermill": {
     "duration": 0.004857,
     "end_time": "2025-01-28T19:41:49.083807",
     "exception": false,
     "start_time": "2025-01-28T19:41:49.078950",
     "status": "completed"
    },
    "tags": []
   },
   "source": [
    "## Aplicando pré-processamento"
   ]
  },
  {
   "cell_type": "code",
   "execution_count": 7,
   "id": "b5045b54",
   "metadata": {
    "execution": {
     "iopub.execute_input": "2025-01-28T19:41:49.095782Z",
     "iopub.status.busy": "2025-01-28T19:41:49.095322Z",
     "iopub.status.idle": "2025-01-28T19:41:54.397320Z",
     "shell.execute_reply": "2025-01-28T19:41:54.396175Z"
    },
    "id": "-G4X4agZ4c09",
    "outputId": "e9548d33-0987-47fd-9445-15de079f84d0",
    "papermill": {
     "duration": 5.310325,
     "end_time": "2025-01-28T19:41:54.399141",
     "exception": false,
     "start_time": "2025-01-28T19:41:49.088816",
     "status": "completed"
    },
    "tags": []
   },
   "outputs": [
    {
     "data": {
      "text/html": [
       "<div>\n",
       "<style scoped>\n",
       "    .dataframe tbody tr th:only-of-type {\n",
       "        vertical-align: middle;\n",
       "    }\n",
       "\n",
       "    .dataframe tbody tr th {\n",
       "        vertical-align: top;\n",
       "    }\n",
       "\n",
       "    .dataframe thead th {\n",
       "        text-align: right;\n",
       "    }\n",
       "</style>\n",
       "<table border=\"1\" class=\"dataframe\">\n",
       "  <thead>\n",
       "    <tr style=\"text-align: right;\">\n",
       "      <th></th>\n",
       "      <th>texto</th>\n",
       "      <th>categoria</th>\n",
       "      <th>textos preprocessados</th>\n",
       "    </tr>\n",
       "  </thead>\n",
       "  <tbody>\n",
       "    <tr>\n",
       "      <th>0</th>\n",
       "      <td>Brasil vence a Argentina na final da Copa Amér...</td>\n",
       "      <td>Esporte</td>\n",
       "      <td>Brasil vencer argentino final copa americar jo...</td>\n",
       "    </tr>\n",
       "    <tr>\n",
       "      <th>1</th>\n",
       "      <td>Inflação desacelera em julho, aliviando a pres...</td>\n",
       "      <td>Economia</td>\n",
       "      <td>inflacao desacelerar julho aliviar pressao sob...</td>\n",
       "    </tr>\n",
       "    <tr>\n",
       "      <th>2</th>\n",
       "      <td>Cientistas descobrem nova espécie de peixe nas...</td>\n",
       "      <td>Ciência</td>\n",
       "      <td>cientista descobr novo especie peixe profundez...</td>\n",
       "    </tr>\n",
       "    <tr>\n",
       "      <th>3</th>\n",
       "      <td>Presidente anuncia pacote de medidas para esti...</td>\n",
       "      <td>Economia</td>\n",
       "      <td>presidente anunciar pacote medida estimular ec...</td>\n",
       "    </tr>\n",
       "    <tr>\n",
       "      <th>4</th>\n",
       "      <td>Ator famoso revela segredo sobre seu novo filme.</td>\n",
       "      <td>Entretenimento</td>\n",
       "      <td>ator famoso revelar segredo sobre novo filme</td>\n",
       "    </tr>\n",
       "  </tbody>\n",
       "</table>\n",
       "</div>"
      ],
      "text/plain": [
       "                                               texto       categoria  \\\n",
       "0  Brasil vence a Argentina na final da Copa Amér...         Esporte   \n",
       "1  Inflação desacelera em julho, aliviando a pres...        Economia   \n",
       "2  Cientistas descobrem nova espécie de peixe nas...         Ciência   \n",
       "3  Presidente anuncia pacote de medidas para esti...        Economia   \n",
       "4   Ator famoso revela segredo sobre seu novo filme.  Entretenimento   \n",
       "\n",
       "                               textos preprocessados  \n",
       "0  Brasil vencer argentino final copa americar jo...  \n",
       "1  inflacao desacelerar julho aliviar pressao sob...  \n",
       "2  cientista descobr novo especie peixe profundez...  \n",
       "3  presidente anunciar pacote medida estimular ec...  \n",
       "4       ator famoso revelar segredo sobre novo filme  "
      ]
     },
     "execution_count": 7,
     "metadata": {},
     "output_type": "execute_result"
    }
   ],
   "source": [
    "# Aplicar pré-processamento\n",
    "df['textos preprocessados'] = df['texto'].apply(pre_processamento_texto)\n",
    "df.head()"
   ]
  },
  {
   "cell_type": "markdown",
   "id": "78088888",
   "metadata": {
    "id": "hQLxnGsz4fil",
    "papermill": {
     "duration": 0.004906,
     "end_time": "2025-01-28T19:41:54.409466",
     "exception": false,
     "start_time": "2025-01-28T19:41:54.404560",
     "status": "completed"
    },
    "tags": []
   },
   "source": [
    "## Vetorização e Treinamento\n",
    "- Foi definido durante a vetorização um N-Grama `1,2` para preservar uma palavra, e em seguida, a mesma palavra com a seguinte. O objetivo disso é manter a sintaxe das frases e trazer mais sentido aos textos.\n",
    "\n",
    "- Durante a divisão dos dados para o treinamento, eu fui ajustando os valores até obter um bom resultado das métricas, fixando o `teste_size=0.3`, random em `42` e espeficicando o `stratify` como a `categoria`.\n",
    "\n",
    "- Como os valores estão desbalanceados, utilzei a regressão logística e atribui o peso `balanced`.\n",
    "\n",
    "- Após observar métricas insatisfatórias, precisei implementar o Grid Search com validação cruzada. Isso ajudou muito a performance e eficácia do treinamento."
   ]
  },
  {
   "cell_type": "code",
   "execution_count": 8,
   "id": "7b9d1b14",
   "metadata": {
    "execution": {
     "iopub.execute_input": "2025-01-28T19:41:54.420720Z",
     "iopub.status.busy": "2025-01-28T19:41:54.420339Z",
     "iopub.status.idle": "2025-01-28T19:42:05.368634Z",
     "shell.execute_reply": "2025-01-28T19:42:05.366736Z"
    },
    "id": "qIVBbidO4hZ0",
    "outputId": "dc55388b-d858-4fe1-f0a4-83e5475f7bec",
    "papermill": {
     "duration": 10.956125,
     "end_time": "2025-01-28T19:42:05.370518",
     "exception": false,
     "start_time": "2025-01-28T19:41:54.414393",
     "status": "completed"
    },
    "tags": []
   },
   "outputs": [
    {
     "name": "stdout",
     "output_type": "stream",
     "text": [
      "Shape X_train: (459, 3797)\n",
      "Shape X_test: (197, 3797)\n",
      "\n",
      "Melhores Parâmetros: {'C': 100, 'penalty': 'l2', 'solver': 'liblinear'}\n",
      "\n",
      ">> Acurácia: 95.4%\n",
      ">> Precisão: 95.6%\n",
      ">> Recall: 95.4%\n",
      ">> F1-score: 95.4%\n"
     ]
    }
   ],
   "source": [
    "#------------------\n",
    "# Vetorização TF-IDF\n",
    "#------------------\n",
    "vectorizer = TfidfVectorizer(ngram_range=(1,2))\n",
    "X = vectorizer.fit_transform(df['textos preprocessados'])\n",
    "y = df['categoria']\n",
    "\n",
    "#------------------\n",
    "# Divisão dos dados\n",
    "#------------------\n",
    "X_train, X_test, y_train, y_test = train_test_split(X, y, test_size=0.3, random_state=42, stratify=y)\n",
    "\n",
    "#------------------\n",
    "# Treinamento do modelo (Regressão Logística)\n",
    "#------------------\n",
    "model = LogisticRegression(class_weight='balanced')\n",
    "model.fit(X_train, y_train)\n",
    "\n",
    "print(\"Shape X_train:\", X_train.shape)\n",
    "print(\"Shape X_test:\", X_test.shape)\n",
    "\n",
    "#------------------\n",
    "# Grid Search com Validação Cruzada\n",
    "#------------------\n",
    "param_grid = {'C': [0.1, 1, 10, 100],\n",
    "              'solver': ['liblinear', 'lbfgs'],\n",
    "              'penalty': ['l1', 'l2']}\n",
    "\n",
    "cv = StratifiedKFold(n_splits=5, shuffle=True, random_state=42)\n",
    "\n",
    "grid_search = GridSearchCV(model, param_grid, cv=cv, scoring='accuracy', n_jobs=-1) # Usar todos os núcleos para grid search\n",
    "grid_search.fit(X_train, y_train)\n",
    "\n",
    "best_model = grid_search.best_estimator_\n",
    "best_params = grid_search.best_params_\n",
    "\n",
    "#------------------\n",
    "# Avaliação no conjunto de teste\n",
    "#------------------\n",
    "y_pred = best_model.predict(X_test)\n",
    "print(f'\\nMelhores Parâmetros: {best_params}')\n",
    "print(f\"\\n>> Acurácia: {(accuracy_score(y_test, y_pred) * 100):.1f}%\")\n",
    "print(f\">> Precisão: {(precision_score(y_test, y_pred, average='weighted') * 100):.1f}%\")\n",
    "print(f\">> Recall: {(recall_score(y_test, y_pred, average='weighted') * 100):.1f}%\")\n",
    "print(f\">> F1-score: {(f1_score(y_test, y_pred, average='weighted') * 100):.1f}%\")"
   ]
  },
  {
   "cell_type": "code",
   "execution_count": 9,
   "id": "7172401d",
   "metadata": {
    "execution": {
     "iopub.execute_input": "2025-01-28T19:42:05.382990Z",
     "iopub.status.busy": "2025-01-28T19:42:05.382581Z",
     "iopub.status.idle": "2025-01-28T19:42:05.404154Z",
     "shell.execute_reply": "2025-01-28T19:42:05.402928Z"
    },
    "id": "TSfZQe9XE0p-",
    "outputId": "add625c7-cba5-4339-c30d-41a84e07a0be",
    "papermill": {
     "duration": 0.03,
     "end_time": "2025-01-28T19:42:05.405842",
     "exception": false,
     "start_time": "2025-01-28T19:42:05.375842",
     "status": "completed"
    },
    "tags": []
   },
   "outputs": [
    {
     "name": "stdout",
     "output_type": "stream",
     "text": [
      "\n",
      "Relatório de Classificação:\n",
      "\n",
      "                 precision    recall  f1-score   support\n",
      "\n",
      "       Ciência       0.90      0.90      0.90        21\n",
      "      Economia       1.00      0.96      0.98        26\n",
      "Entretenimento       0.95      1.00      0.97        37\n",
      "       Esporte       1.00      0.94      0.97        18\n",
      " Meio Ambiente       0.86      1.00      0.92        18\n",
      "      Política       0.97      1.00      0.98        31\n",
      "         Saúde       0.95      0.79      0.86        24\n",
      "    Tecnologia       1.00      1.00      1.00        22\n",
      "\n",
      "      accuracy                           0.95       197\n",
      "     macro avg       0.95      0.95      0.95       197\n",
      "  weighted avg       0.96      0.95      0.95       197\n",
      "\n"
     ]
    }
   ],
   "source": [
    "print(\"\\nRelatório de Classificação:\\n\\n\", classification_report(y_test, y_pred, zero_division=0))"
   ]
  },
  {
   "cell_type": "markdown",
   "id": "1dce49b1",
   "metadata": {
    "id": "xaZm0YyMrlTu",
    "papermill": {
     "duration": 0.004876,
     "end_time": "2025-01-28T19:42:05.416286",
     "exception": false,
     "start_time": "2025-01-28T19:42:05.411410",
     "status": "completed"
    },
    "tags": []
   },
   "source": [
    "Com o `F1-score` em 94% será o suficiente para aplicar meu modelo com novos dados e testar minhas previsões."
   ]
  },
  {
   "cell_type": "markdown",
   "id": "5786a406",
   "metadata": {
    "papermill": {
     "duration": 0.004975,
     "end_time": "2025-01-28T19:42:05.426385",
     "exception": false,
     "start_time": "2025-01-28T19:42:05.421410",
     "status": "completed"
    },
    "tags": []
   },
   "source": [
    "## Aplicando modelo com novos dados"
   ]
  },
  {
   "cell_type": "code",
   "execution_count": 10,
   "id": "411c87aa",
   "metadata": {
    "execution": {
     "iopub.execute_input": "2025-01-28T19:42:05.448953Z",
     "iopub.status.busy": "2025-01-28T19:42:05.448578Z",
     "iopub.status.idle": "2025-01-28T19:42:05.512989Z",
     "shell.execute_reply": "2025-01-28T19:42:05.511160Z"
    },
    "id": "sovj5a6ZLiC5",
    "outputId": "0a5f8010-6728-4c4c-e45c-2139bdfcd3c2",
    "papermill": {
     "duration": 0.078654,
     "end_time": "2025-01-28T19:42:05.515631",
     "exception": false,
     "start_time": "2025-01-28T19:42:05.436977",
     "status": "completed"
    },
    "tags": []
   },
   "outputs": [
    {
     "name": "stdout",
     "output_type": "stream",
     "text": [
      "Comentário: Bolsonaro aposta na influência de Trump para tentar reverter inelegibilidade. - Previsão: Política\n",
      "\n",
      "Comentário: O mistério de por que a covid-19 parece estar se tornando menos letal - Previsão: Saúde\n",
      "\n",
      "Comentário: Coldplay transmite maior show ao vivo na Índia pelo Disney+ - Previsão: Entretenimento\n",
      "\n",
      "Comentário: O valor do dolar está cada vez mais alto chegando a quase 7 reais. - Previsão: Economia\n",
      "\n"
     ]
    }
   ],
   "source": [
    "# Novas amostras para serem previstas\n",
    "novos_coments = [\n",
    "    \"Bolsonaro aposta na influência de Trump para tentar reverter inelegibilidade.\",\n",
    "    \"O mistério de por que a covid-19 parece estar se tornando menos letal\",\n",
    "    \"Coldplay transmite maior show ao vivo na Índia pelo Disney+\",\n",
    "    \"O valor do dolar está cada vez mais alto chegando a quase 7 reais.\"\n",
    "]\n",
    "novos_coments_preprocessados = [pre_processamento_texto(review) for review in novos_coments]\n",
    "novos_coments_vetorizados = vectorizer.transform(novos_coments_preprocessados)\n",
    "novos_coments_previsao = model.predict(novos_coments_vetorizados)\n",
    "\n",
    "for review, prediction in zip(novos_coments, novos_coments_previsao):\n",
    "    print(f\"Comentário: {review} - Previsão: {prediction}\\n\")"
   ]
  },
  {
   "cell_type": "markdown",
   "id": "e589e11a",
   "metadata": {
    "id": "6Qq3RVJ6sGHd",
    "papermill": {
     "duration": 0.007807,
     "end_time": "2025-01-28T19:42:05.533482",
     "exception": false,
     "start_time": "2025-01-28T19:42:05.525675",
     "status": "completed"
    },
    "tags": []
   },
   "source": [
    "## Conclusão"
   ]
  },
  {
   "cell_type": "markdown",
   "id": "5a40eb3f",
   "metadata": {
    "id": "BmyOxF4BZ1Q2",
    "papermill": {
     "duration": 0.005139,
     "end_time": "2025-01-28T19:42:05.544243",
     "exception": false,
     "start_time": "2025-01-28T19:42:05.539104",
     "status": "completed"
    },
    "tags": []
   },
   "source": [
    "\n",
    "- Ao aplicar Oversampling, foi definido um balanceamento para que todas as categorias tivessem 125 amostras. Os resultados foram bons com métricas em torno de 98%. No entanto, o modelo ainda não conseguia avaliar novas amostragens com perfeição.\n",
    "\n",
    "- Ao aplicar Ponderação de Classes, pude atribuir pesos diferentes às categorias usando parâmetros com sklearn na `LogisticRegression`. Os resultados foram bons com métricas em torno de 94%. E o modelo está prevendo bem as novas amostras, tornando mais ideal para este projeto.\n",
    "\n",
    "- Foram adicionadas 4 amostras para previsão e o modelo conseguiu prever corretamente as frases\n",
    "    - 1ª frase: previsão esperada `Política`\n",
    "    - 2ª frase: previsão esperada `Saúde`\n",
    "    - 3ª frase: previsão esperada `Entrenenimento`\n",
    "    - 4ª frase: previsão esperada `Economia`\n",
    "\n",
    "- Futuramente, pretendo encontrar ou acrescentar novas amostras para treinar o modelo com mais categorias."
   ]
  }
 ],
 "metadata": {
  "colab": {
   "provenance": []
  },
  "kaggle": {
   "accelerator": "none",
   "dataSources": [
    {
     "datasetId": 6533015,
     "sourceId": 10559433,
     "sourceType": "datasetVersion"
    }
   ],
   "dockerImageVersionId": 30839,
   "isGpuEnabled": false,
   "isInternetEnabled": true,
   "language": "python",
   "sourceType": "notebook"
  },
  "kernelspec": {
   "display_name": "Python 3",
   "language": "python",
   "name": "python3"
  },
  "language_info": {
   "codemirror_mode": {
    "name": "ipython",
    "version": 3
   },
   "file_extension": ".py",
   "mimetype": "text/x-python",
   "name": "python",
   "nbconvert_exporter": "python",
   "pygments_lexer": "ipython3",
   "version": "3.10.12"
  },
  "papermill": {
   "default_parameters": {},
   "duration": 49.44591,
   "end_time": "2025-01-28T19:42:07.275787",
   "environment_variables": {},
   "exception": null,
   "input_path": "__notebook__.ipynb",
   "output_path": "__notebook__.ipynb",
   "parameters": {},
   "start_time": "2025-01-28T19:41:17.829877",
   "version": "2.6.0"
  }
 },
 "nbformat": 4,
 "nbformat_minor": 5
}
