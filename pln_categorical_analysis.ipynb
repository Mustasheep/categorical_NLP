{
  "metadata": {
    "kernelspec": {
      "name": "python3",
      "display_name": "Python 3",
      "language": "python"
    },
    "language_info": {
      "codemirror_mode": {
        "name": "ipython",
        "version": 3
      },
      "file_extension": ".py",
      "mimetype": "text/x-python",
      "name": "python",
      "nbconvert_exporter": "python",
      "pygments_lexer": "ipython3",
      "version": "3.10.12"
    },
    "colab": {
      "provenance": [],
      "include_colab_link": true
    },
    "kaggle": {
      "accelerator": "none",
      "dataSources": [
        {
          "sourceId": 10559433,
          "sourceType": "datasetVersion",
          "datasetId": 6533015
        }
      ],
      "dockerImageVersionId": 30839,
      "isInternetEnabled": true,
      "language": "python",
      "sourceType": "notebook",
      "isGpuEnabled": false
    },
    "papermill": {
      "default_parameters": {},
      "duration": 12.480091,
      "end_time": "2025-01-21T12:40:38.546580",
      "environment_variables": {},
      "exception": true,
      "input_path": "__notebook__.ipynb",
      "output_path": "__notebook__.ipynb",
      "parameters": {},
      "start_time": "2025-01-21T12:40:26.066489",
      "version": "2.6.0"
    }
  },
  "nbformat_minor": 0,
  "nbformat": 4,
  "cells": [
    {
      "cell_type": "markdown",
      "metadata": {
        "id": "view-in-github",
        "colab_type": "text"
      },
      "source": [
        "<a href=\"https://colab.research.google.com/github/Mustasheep/categorical_NLP/blob/main/pln_categorical_analysis.ipynb\" target=\"_parent\"><img src=\"https://colab.research.google.com/assets/colab-badge.svg\" alt=\"Open In Colab\"/></a>"
      ]
    },
    {
      "cell_type": "markdown",
      "source": [
        "## Introdução\n",
        "\n",
        "Este é um projeto de Processamento de Linguagem Natural (PLN) e tem o objetivo de prever textos de notícias (principalmente o título da matéria) e classificar em suas devidas categorias."
      ],
      "metadata": {
        "papermill": {
          "duration": 0.003925,
          "end_time": "2025-01-21T12:40:28.415067",
          "exception": false,
          "start_time": "2025-01-21T12:40:28.411142",
          "status": "completed"
        },
        "tags": [],
        "id": "66TMqsCrmQdm"
      }
    },
    {
      "cell_type": "code",
      "source": [
        "# Ocultando mensagens de erro\n",
        "import warnings\n",
        "warnings.filterwarnings('ignore')"
      ],
      "metadata": {
        "id": "0ale9Mjn2imi",
        "papermill": {
          "duration": 0.009519,
          "end_time": "2025-01-21T12:40:28.427830",
          "exception": false,
          "start_time": "2025-01-21T12:40:28.418311",
          "status": "completed"
        },
        "tags": [],
        "trusted": true
      },
      "outputs": [],
      "execution_count": 2
    },
    {
      "cell_type": "markdown",
      "source": [
        "## Importando bibliotecas\n",
        "Para este projeto, irei utilizar um grande conjunto de bibliotecas:\n",
        "\n",
        "**Manipulação de dados:**\n",
        "  - `pandas` para manipular meus dados e preparar o DataFrame para PLN\n",
        "      \n",
        "**Pré-Processamento de texto:**\n",
        "  - `re` para remoção de diversos caracteres\n",
        "  - `spacy` para lematização de palavras da lingua portuguesa\n",
        "  - `nltk` para remoção de stopwords, tokenização e lematização\n",
        "  - `unidecode` para preservar acentuações da lingua portuguesa\n",
        "      \n",
        "**Vetorização e treinamento:**\n",
        " - Várias importações de pacotes do `sklearn` para diversos fins de vetorização, treinamento, modelo e métricas de avaliação.\n",
        "\n",
        "**Dependências:**\n",
        " - Serão baixadas algumas dependências para serem aplicadas no pré-processamento     "
      ],
      "metadata": {
        "id": "jzIJBTPX4DeW",
        "papermill": {
          "duration": 0.002963,
          "end_time": "2025-01-21T12:40:28.434136",
          "exception": false,
          "start_time": "2025-01-21T12:40:28.431173",
          "status": "completed"
        },
        "tags": []
      }
    },
    {
      "cell_type": "code",
      "source": [
        "!pip install unidecode > /dev/null\n",
        "!python -m spacy download pt_core_news_sm > /dev/null"
      ],
      "metadata": {
        "trusted": true,
        "execution": {
          "iopub.status.busy": "2025-01-28T19:37:09.219108Z",
          "iopub.execute_input": "2025-01-28T19:37:09.219512Z",
          "iopub.status.idle": "2025-01-28T19:37:25.170222Z",
          "shell.execute_reply.started": "2025-01-28T19:37:09.219469Z",
          "shell.execute_reply": "2025-01-28T19:37:25.168728Z"
        },
        "id": "F1ZAKBxsmQdq"
      },
      "outputs": [],
      "execution_count": 3
    },
    {
      "cell_type": "code",
      "source": [
        "# Importando...\n",
        "import pandas as pd\n",
        "\n",
        "import re\n",
        "import nltk\n",
        "import spacy\n",
        "from unidecode import unidecode\n",
        "from nltk.corpus import stopwords\n",
        "from nltk.tokenize import word_tokenize\n",
        "\n",
        "from sklearn.feature_extraction.text import TfidfVectorizer\n",
        "from sklearn.model_selection import train_test_split, GridSearchCV, StratifiedKFold\n",
        "from sklearn.linear_model import LogisticRegression\n",
        "from sklearn.metrics import accuracy_score, precision_score, recall_score, f1_score, classification_report\n",
        "\n",
        "# Dependências\n",
        "nltk.download('punkt_tab')\n",
        "nltk.download('punkt')\n",
        "nltk.download('stopwords')"
      ],
      "metadata": {
        "execution": {
          "iopub.status.busy": "2025-01-28T19:37:25.172959Z",
          "iopub.execute_input": "2025-01-28T19:37:25.173271Z",
          "iopub.status.idle": "2025-01-28T19:37:30.497591Z",
          "shell.execute_reply.started": "2025-01-28T19:37:25.173241Z",
          "shell.execute_reply": "2025-01-28T19:37:30.496586Z"
        },
        "id": "ZXhJPHBL4GkV",
        "outputId": "c5ddc214-e269-492e-c4ac-1b581d6f7820",
        "papermill": {
          "duration": 7.729573,
          "end_time": "2025-01-21T12:40:36.166745",
          "exception": true,
          "start_time": "2025-01-21T12:40:28.437172",
          "status": "failed"
        },
        "tags": [],
        "trusted": true,
        "colab": {
          "base_uri": "https://localhost:8080/"
        }
      },
      "outputs": [
        {
          "output_type": "stream",
          "name": "stderr",
          "text": [
            "[nltk_data] Downloading package punkt_tab to /root/nltk_data...\n",
            "[nltk_data]   Unzipping tokenizers/punkt_tab.zip.\n",
            "[nltk_data] Downloading package punkt to /root/nltk_data...\n",
            "[nltk_data]   Unzipping tokenizers/punkt.zip.\n",
            "[nltk_data] Downloading package stopwords to /root/nltk_data...\n",
            "[nltk_data]   Unzipping corpora/stopwords.zip.\n"
          ]
        },
        {
          "output_type": "execute_result",
          "data": {
            "text/plain": [
              "True"
            ]
          },
          "metadata": {},
          "execution_count": 4
        }
      ],
      "execution_count": 4
    },
    {
      "cell_type": "code",
      "source": [
        "nlp = spacy.load('pt_core_news_sm')\n",
        "\n",
        "def pre_processamento_texto(texto, lemmatize=True):\n",
        "    \"\"\"\n",
        "    A função irá remover tags HTML, acentos das palavras (permanecendo a letra),\n",
        "    caracteres especiais, URLs, espaços em branco extras, capitalizar letras em\n",
        "    minúsculas, remover números, tokenizar o texto, remover stopwords e lematizar.\n",
        "    \"\"\"\n",
        "\n",
        "\n",
        "    texto = texto.strip()\n",
        "    texto = texto.lower()\n",
        "    texto = unidecode(texto)\n",
        "    texto = re.sub(r'<.*?>', '', texto)\n",
        "    texto = re.sub(r'[^a-zA-Z0-9\\s]', '', texto)\n",
        "    texto = re.sub(r'http\\S+', '', texto)\n",
        "    texto = re.sub(r'\\s+', ' ', texto)\n",
        "    texto = re.sub(r'\\d+', '', texto)\n",
        "\n",
        "    tokens = word_tokenize(texto)\n",
        "    stop_words = set(stopwords.words('portuguese'))\n",
        "    tokens = [token for token in tokens if token not in stop_words] # Tokenização\n",
        "\n",
        "    if lemmatize:\n",
        "        tokens = [token.lemma_ for token in nlp(' '.join(tokens))] # Lematização\n",
        "\n",
        "    return \" \".join(tokens)"
      ],
      "metadata": {
        "id": "P7IO-30h4G92",
        "papermill": {
          "duration": null,
          "end_time": null,
          "exception": null,
          "start_time": null,
          "status": "pending"
        },
        "tags": [],
        "trusted": true,
        "execution": {
          "iopub.status.busy": "2025-01-28T19:37:30.498947Z",
          "iopub.execute_input": "2025-01-28T19:37:30.499452Z",
          "iopub.status.idle": "2025-01-28T19:37:31.336967Z",
          "shell.execute_reply.started": "2025-01-28T19:37:30.499420Z",
          "shell.execute_reply": "2025-01-28T19:37:31.335947Z"
        }
      },
      "outputs": [],
      "execution_count": 14
    },
    {
      "cell_type": "markdown",
      "source": [
        "## Preparando dados"
      ],
      "metadata": {
        "id": "9aFEbikf4Tdd",
        "papermill": {
          "duration": null,
          "end_time": null,
          "exception": null,
          "start_time": null,
          "status": "pending"
        },
        "tags": []
      }
    },
    {
      "cell_type": "code",
      "source": [
        "# O dataset foi preparado em outro projeto\n",
        "df = pd.read_csv('/content/frases_categorias.csv')\n",
        "df.info()\n",
        "df.head()"
      ],
      "metadata": {
        "id": "JLgLR91H4MW9",
        "outputId": "ed6da52d-ad50-4413-c1a2-522216146424",
        "papermill": {
          "duration": null,
          "end_time": null,
          "exception": null,
          "start_time": null,
          "status": "pending"
        },
        "tags": [],
        "trusted": true,
        "execution": {
          "iopub.status.busy": "2025-01-28T19:37:31.338100Z",
          "iopub.execute_input": "2025-01-28T19:37:31.338432Z",
          "iopub.status.idle": "2025-01-28T19:37:31.409518Z",
          "shell.execute_reply.started": "2025-01-28T19:37:31.338401Z",
          "shell.execute_reply": "2025-01-28T19:37:31.408450Z"
        },
        "colab": {
          "base_uri": "https://localhost:8080/",
          "height": 362
        }
      },
      "outputs": [
        {
          "output_type": "stream",
          "name": "stdout",
          "text": [
            "<class 'pandas.core.frame.DataFrame'>\n",
            "RangeIndex: 656 entries, 0 to 655\n",
            "Data columns (total 2 columns):\n",
            " #   Column     Non-Null Count  Dtype \n",
            "---  ------     --------------  ----- \n",
            " 0   texto      656 non-null    object\n",
            " 1   categoria  656 non-null    object\n",
            "dtypes: object(2)\n",
            "memory usage: 10.4+ KB\n"
          ]
        },
        {
          "output_type": "execute_result",
          "data": {
            "text/plain": [
              "                                               texto       categoria\n",
              "0  Brasil vence a Argentina na final da Copa Amér...         Esporte\n",
              "1  Inflação desacelera em julho, aliviando a pres...        Economia\n",
              "2  Cientistas descobrem nova espécie de peixe nas...         Ciência\n",
              "3  Presidente anuncia pacote de medidas para esti...        Economia\n",
              "4   Ator famoso revela segredo sobre seu novo filme.  Entretenimento"
            ],
            "text/html": [
              "\n",
              "  <div id=\"df-84fd13c6-1493-4331-a835-efcd65fce84d\" class=\"colab-df-container\">\n",
              "    <div>\n",
              "<style scoped>\n",
              "    .dataframe tbody tr th:only-of-type {\n",
              "        vertical-align: middle;\n",
              "    }\n",
              "\n",
              "    .dataframe tbody tr th {\n",
              "        vertical-align: top;\n",
              "    }\n",
              "\n",
              "    .dataframe thead th {\n",
              "        text-align: right;\n",
              "    }\n",
              "</style>\n",
              "<table border=\"1\" class=\"dataframe\">\n",
              "  <thead>\n",
              "    <tr style=\"text-align: right;\">\n",
              "      <th></th>\n",
              "      <th>texto</th>\n",
              "      <th>categoria</th>\n",
              "    </tr>\n",
              "  </thead>\n",
              "  <tbody>\n",
              "    <tr>\n",
              "      <th>0</th>\n",
              "      <td>Brasil vence a Argentina na final da Copa Amér...</td>\n",
              "      <td>Esporte</td>\n",
              "    </tr>\n",
              "    <tr>\n",
              "      <th>1</th>\n",
              "      <td>Inflação desacelera em julho, aliviando a pres...</td>\n",
              "      <td>Economia</td>\n",
              "    </tr>\n",
              "    <tr>\n",
              "      <th>2</th>\n",
              "      <td>Cientistas descobrem nova espécie de peixe nas...</td>\n",
              "      <td>Ciência</td>\n",
              "    </tr>\n",
              "    <tr>\n",
              "      <th>3</th>\n",
              "      <td>Presidente anuncia pacote de medidas para esti...</td>\n",
              "      <td>Economia</td>\n",
              "    </tr>\n",
              "    <tr>\n",
              "      <th>4</th>\n",
              "      <td>Ator famoso revela segredo sobre seu novo filme.</td>\n",
              "      <td>Entretenimento</td>\n",
              "    </tr>\n",
              "  </tbody>\n",
              "</table>\n",
              "</div>\n",
              "    <div class=\"colab-df-buttons\">\n",
              "\n",
              "  <div class=\"colab-df-container\">\n",
              "    <button class=\"colab-df-convert\" onclick=\"convertToInteractive('df-84fd13c6-1493-4331-a835-efcd65fce84d')\"\n",
              "            title=\"Convert this dataframe to an interactive table.\"\n",
              "            style=\"display:none;\">\n",
              "\n",
              "  <svg xmlns=\"http://www.w3.org/2000/svg\" height=\"24px\" viewBox=\"0 -960 960 960\">\n",
              "    <path d=\"M120-120v-720h720v720H120Zm60-500h600v-160H180v160Zm220 220h160v-160H400v160Zm0 220h160v-160H400v160ZM180-400h160v-160H180v160Zm440 0h160v-160H620v160ZM180-180h160v-160H180v160Zm440 0h160v-160H620v160Z\"/>\n",
              "  </svg>\n",
              "    </button>\n",
              "\n",
              "  <style>\n",
              "    .colab-df-container {\n",
              "      display:flex;\n",
              "      gap: 12px;\n",
              "    }\n",
              "\n",
              "    .colab-df-convert {\n",
              "      background-color: #E8F0FE;\n",
              "      border: none;\n",
              "      border-radius: 50%;\n",
              "      cursor: pointer;\n",
              "      display: none;\n",
              "      fill: #1967D2;\n",
              "      height: 32px;\n",
              "      padding: 0 0 0 0;\n",
              "      width: 32px;\n",
              "    }\n",
              "\n",
              "    .colab-df-convert:hover {\n",
              "      background-color: #E2EBFA;\n",
              "      box-shadow: 0px 1px 2px rgba(60, 64, 67, 0.3), 0px 1px 3px 1px rgba(60, 64, 67, 0.15);\n",
              "      fill: #174EA6;\n",
              "    }\n",
              "\n",
              "    .colab-df-buttons div {\n",
              "      margin-bottom: 4px;\n",
              "    }\n",
              "\n",
              "    [theme=dark] .colab-df-convert {\n",
              "      background-color: #3B4455;\n",
              "      fill: #D2E3FC;\n",
              "    }\n",
              "\n",
              "    [theme=dark] .colab-df-convert:hover {\n",
              "      background-color: #434B5C;\n",
              "      box-shadow: 0px 1px 3px 1px rgba(0, 0, 0, 0.15);\n",
              "      filter: drop-shadow(0px 1px 2px rgba(0, 0, 0, 0.3));\n",
              "      fill: #FFFFFF;\n",
              "    }\n",
              "  </style>\n",
              "\n",
              "    <script>\n",
              "      const buttonEl =\n",
              "        document.querySelector('#df-84fd13c6-1493-4331-a835-efcd65fce84d button.colab-df-convert');\n",
              "      buttonEl.style.display =\n",
              "        google.colab.kernel.accessAllowed ? 'block' : 'none';\n",
              "\n",
              "      async function convertToInteractive(key) {\n",
              "        const element = document.querySelector('#df-84fd13c6-1493-4331-a835-efcd65fce84d');\n",
              "        const dataTable =\n",
              "          await google.colab.kernel.invokeFunction('convertToInteractive',\n",
              "                                                    [key], {});\n",
              "        if (!dataTable) return;\n",
              "\n",
              "        const docLinkHtml = 'Like what you see? Visit the ' +\n",
              "          '<a target=\"_blank\" href=https://colab.research.google.com/notebooks/data_table.ipynb>data table notebook</a>'\n",
              "          + ' to learn more about interactive tables.';\n",
              "        element.innerHTML = '';\n",
              "        dataTable['output_type'] = 'display_data';\n",
              "        await google.colab.output.renderOutput(dataTable, element);\n",
              "        const docLink = document.createElement('div');\n",
              "        docLink.innerHTML = docLinkHtml;\n",
              "        element.appendChild(docLink);\n",
              "      }\n",
              "    </script>\n",
              "  </div>\n",
              "\n",
              "\n",
              "<div id=\"df-420ed523-6765-418c-b7c8-da7012f358fa\">\n",
              "  <button class=\"colab-df-quickchart\" onclick=\"quickchart('df-420ed523-6765-418c-b7c8-da7012f358fa')\"\n",
              "            title=\"Suggest charts\"\n",
              "            style=\"display:none;\">\n",
              "\n",
              "<svg xmlns=\"http://www.w3.org/2000/svg\" height=\"24px\"viewBox=\"0 0 24 24\"\n",
              "     width=\"24px\">\n",
              "    <g>\n",
              "        <path d=\"M19 3H5c-1.1 0-2 .9-2 2v14c0 1.1.9 2 2 2h14c1.1 0 2-.9 2-2V5c0-1.1-.9-2-2-2zM9 17H7v-7h2v7zm4 0h-2V7h2v10zm4 0h-2v-4h2v4z\"/>\n",
              "    </g>\n",
              "</svg>\n",
              "  </button>\n",
              "\n",
              "<style>\n",
              "  .colab-df-quickchart {\n",
              "      --bg-color: #E8F0FE;\n",
              "      --fill-color: #1967D2;\n",
              "      --hover-bg-color: #E2EBFA;\n",
              "      --hover-fill-color: #174EA6;\n",
              "      --disabled-fill-color: #AAA;\n",
              "      --disabled-bg-color: #DDD;\n",
              "  }\n",
              "\n",
              "  [theme=dark] .colab-df-quickchart {\n",
              "      --bg-color: #3B4455;\n",
              "      --fill-color: #D2E3FC;\n",
              "      --hover-bg-color: #434B5C;\n",
              "      --hover-fill-color: #FFFFFF;\n",
              "      --disabled-bg-color: #3B4455;\n",
              "      --disabled-fill-color: #666;\n",
              "  }\n",
              "\n",
              "  .colab-df-quickchart {\n",
              "    background-color: var(--bg-color);\n",
              "    border: none;\n",
              "    border-radius: 50%;\n",
              "    cursor: pointer;\n",
              "    display: none;\n",
              "    fill: var(--fill-color);\n",
              "    height: 32px;\n",
              "    padding: 0;\n",
              "    width: 32px;\n",
              "  }\n",
              "\n",
              "  .colab-df-quickchart:hover {\n",
              "    background-color: var(--hover-bg-color);\n",
              "    box-shadow: 0 1px 2px rgba(60, 64, 67, 0.3), 0 1px 3px 1px rgba(60, 64, 67, 0.15);\n",
              "    fill: var(--button-hover-fill-color);\n",
              "  }\n",
              "\n",
              "  .colab-df-quickchart-complete:disabled,\n",
              "  .colab-df-quickchart-complete:disabled:hover {\n",
              "    background-color: var(--disabled-bg-color);\n",
              "    fill: var(--disabled-fill-color);\n",
              "    box-shadow: none;\n",
              "  }\n",
              "\n",
              "  .colab-df-spinner {\n",
              "    border: 2px solid var(--fill-color);\n",
              "    border-color: transparent;\n",
              "    border-bottom-color: var(--fill-color);\n",
              "    animation:\n",
              "      spin 1s steps(1) infinite;\n",
              "  }\n",
              "\n",
              "  @keyframes spin {\n",
              "    0% {\n",
              "      border-color: transparent;\n",
              "      border-bottom-color: var(--fill-color);\n",
              "      border-left-color: var(--fill-color);\n",
              "    }\n",
              "    20% {\n",
              "      border-color: transparent;\n",
              "      border-left-color: var(--fill-color);\n",
              "      border-top-color: var(--fill-color);\n",
              "    }\n",
              "    30% {\n",
              "      border-color: transparent;\n",
              "      border-left-color: var(--fill-color);\n",
              "      border-top-color: var(--fill-color);\n",
              "      border-right-color: var(--fill-color);\n",
              "    }\n",
              "    40% {\n",
              "      border-color: transparent;\n",
              "      border-right-color: var(--fill-color);\n",
              "      border-top-color: var(--fill-color);\n",
              "    }\n",
              "    60% {\n",
              "      border-color: transparent;\n",
              "      border-right-color: var(--fill-color);\n",
              "    }\n",
              "    80% {\n",
              "      border-color: transparent;\n",
              "      border-right-color: var(--fill-color);\n",
              "      border-bottom-color: var(--fill-color);\n",
              "    }\n",
              "    90% {\n",
              "      border-color: transparent;\n",
              "      border-bottom-color: var(--fill-color);\n",
              "    }\n",
              "  }\n",
              "</style>\n",
              "\n",
              "  <script>\n",
              "    async function quickchart(key) {\n",
              "      const quickchartButtonEl =\n",
              "        document.querySelector('#' + key + ' button');\n",
              "      quickchartButtonEl.disabled = true;  // To prevent multiple clicks.\n",
              "      quickchartButtonEl.classList.add('colab-df-spinner');\n",
              "      try {\n",
              "        const charts = await google.colab.kernel.invokeFunction(\n",
              "            'suggestCharts', [key], {});\n",
              "      } catch (error) {\n",
              "        console.error('Error during call to suggestCharts:', error);\n",
              "      }\n",
              "      quickchartButtonEl.classList.remove('colab-df-spinner');\n",
              "      quickchartButtonEl.classList.add('colab-df-quickchart-complete');\n",
              "    }\n",
              "    (() => {\n",
              "      let quickchartButtonEl =\n",
              "        document.querySelector('#df-420ed523-6765-418c-b7c8-da7012f358fa button');\n",
              "      quickchartButtonEl.style.display =\n",
              "        google.colab.kernel.accessAllowed ? 'block' : 'none';\n",
              "    })();\n",
              "  </script>\n",
              "</div>\n",
              "\n",
              "    </div>\n",
              "  </div>\n"
            ],
            "application/vnd.google.colaboratory.intrinsic+json": {
              "type": "dataframe",
              "variable_name": "df",
              "summary": "{\n  \"name\": \"df\",\n  \"rows\": 656,\n  \"fields\": [\n    {\n      \"column\": \"texto\",\n      \"properties\": {\n        \"dtype\": \"string\",\n        \"num_unique_values\": 653,\n        \"samples\": [\n          \"Ator mirim ganha pr\\u00eamio por sua atua\\u00e7\\u00e3o em filme independente.\",\n          \"Ativistas protestam contra a constru\\u00e7\\u00e3o de hidrel\\u00e9trica.\",\n          \"Aplicativo para o monitoramento de energia renov\\u00e1vel tem grande sucesso.\"\n        ],\n        \"semantic_type\": \"\",\n        \"description\": \"\"\n      }\n    },\n    {\n      \"column\": \"categoria\",\n      \"properties\": {\n        \"dtype\": \"category\",\n        \"num_unique_values\": 8,\n        \"samples\": [\n          \"Economia\",\n          \"Sa\\u00fade\",\n          \"Esporte\"\n        ],\n        \"semantic_type\": \"\",\n        \"description\": \"\"\n      }\n    }\n  ]\n}"
            }
          },
          "metadata": {},
          "execution_count": 18
        }
      ],
      "execution_count": 18
    },
    {
      "cell_type": "code",
      "source": [
        "df['categoria'].value_counts()"
      ],
      "metadata": {
        "id": "twM5Yhno7J2E",
        "outputId": "f0ac7722-3d70-4276-cea3-829b76c8cc44",
        "papermill": {
          "duration": null,
          "end_time": null,
          "exception": null,
          "start_time": null,
          "status": "pending"
        },
        "tags": [],
        "trusted": true,
        "execution": {
          "iopub.status.busy": "2025-01-28T19:37:31.410627Z",
          "iopub.execute_input": "2025-01-28T19:37:31.411033Z",
          "iopub.status.idle": "2025-01-28T19:37:31.421831Z",
          "shell.execute_reply.started": "2025-01-28T19:37:31.410998Z",
          "shell.execute_reply": "2025-01-28T19:37:31.420737Z"
        },
        "colab": {
          "base_uri": "https://localhost:8080/",
          "height": 366
        }
      },
      "outputs": [
        {
          "output_type": "execute_result",
          "data": {
            "text/plain": [
              "categoria\n",
              "Entretenimento    125\n",
              "Política          103\n",
              "Economia           87\n",
              "Saúde              79\n",
              "Tecnologia         72\n",
              "Ciência            71\n",
              "Esporte            60\n",
              "Meio Ambiente      59\n",
              "Name: count, dtype: int64"
            ],
            "text/html": [
              "<div>\n",
              "<style scoped>\n",
              "    .dataframe tbody tr th:only-of-type {\n",
              "        vertical-align: middle;\n",
              "    }\n",
              "\n",
              "    .dataframe tbody tr th {\n",
              "        vertical-align: top;\n",
              "    }\n",
              "\n",
              "    .dataframe thead th {\n",
              "        text-align: right;\n",
              "    }\n",
              "</style>\n",
              "<table border=\"1\" class=\"dataframe\">\n",
              "  <thead>\n",
              "    <tr style=\"text-align: right;\">\n",
              "      <th></th>\n",
              "      <th>count</th>\n",
              "    </tr>\n",
              "    <tr>\n",
              "      <th>categoria</th>\n",
              "      <th></th>\n",
              "    </tr>\n",
              "  </thead>\n",
              "  <tbody>\n",
              "    <tr>\n",
              "      <th>Entretenimento</th>\n",
              "      <td>125</td>\n",
              "    </tr>\n",
              "    <tr>\n",
              "      <th>Política</th>\n",
              "      <td>103</td>\n",
              "    </tr>\n",
              "    <tr>\n",
              "      <th>Economia</th>\n",
              "      <td>87</td>\n",
              "    </tr>\n",
              "    <tr>\n",
              "      <th>Saúde</th>\n",
              "      <td>79</td>\n",
              "    </tr>\n",
              "    <tr>\n",
              "      <th>Tecnologia</th>\n",
              "      <td>72</td>\n",
              "    </tr>\n",
              "    <tr>\n",
              "      <th>Ciência</th>\n",
              "      <td>71</td>\n",
              "    </tr>\n",
              "    <tr>\n",
              "      <th>Esporte</th>\n",
              "      <td>60</td>\n",
              "    </tr>\n",
              "    <tr>\n",
              "      <th>Meio Ambiente</th>\n",
              "      <td>59</td>\n",
              "    </tr>\n",
              "  </tbody>\n",
              "</table>\n",
              "</div><br><label><b>dtype:</b> int64</label>"
            ]
          },
          "metadata": {},
          "execution_count": 19
        }
      ],
      "execution_count": 19
    },
    {
      "cell_type": "markdown",
      "source": [
        "Existe um desbalanceamento nas quantidades das amostras dentro das categorias. Será necessário fazer um ajustamento na quantidade para balancear, mas provavelmente o uso de pesos irá resolver esse problema."
      ],
      "metadata": {
        "id": "xLKVefjSX7fW",
        "papermill": {
          "duration": null,
          "end_time": null,
          "exception": null,
          "start_time": null,
          "status": "pending"
        },
        "tags": []
      }
    },
    {
      "cell_type": "markdown",
      "source": [
        "## Aplicando pré-processamento"
      ],
      "metadata": {
        "id": "iZ7KXaZ84aJV",
        "papermill": {
          "duration": null,
          "end_time": null,
          "exception": null,
          "start_time": null,
          "status": "pending"
        },
        "tags": []
      }
    },
    {
      "cell_type": "code",
      "source": [
        "# Aplicar pré-processamento\n",
        "df['textos preprocessados'] = df['texto'].apply(pre_processamento_texto)\n",
        "df.tail()"
      ],
      "metadata": {
        "id": "-G4X4agZ4c09",
        "outputId": "6244b0b5-1c59-4075-82e3-143289f96f31",
        "papermill": {
          "duration": null,
          "end_time": null,
          "exception": null,
          "start_time": null,
          "status": "pending"
        },
        "tags": [],
        "trusted": true,
        "execution": {
          "iopub.status.busy": "2025-01-28T19:37:31.422966Z",
          "iopub.execute_input": "2025-01-28T19:37:31.423452Z",
          "iopub.status.idle": "2025-01-28T19:37:36.564202Z",
          "shell.execute_reply.started": "2025-01-28T19:37:31.423413Z",
          "shell.execute_reply": "2025-01-28T19:37:36.563216Z"
        },
        "colab": {
          "base_uri": "https://localhost:8080/",
          "height": 206
        }
      },
      "outputs": [
        {
          "output_type": "execute_result",
          "data": {
            "text/plain": [
              "                                                 texto       categoria  \\\n",
              "651  Descoberta de novas evidências sobre a vida em...         Ciência   \n",
              "652  Empresa de tecnologia cria aplicativo que faci...      Tecnologia   \n",
              "653  Novo tratamento para doenças degenerativas apr...           Saúde   \n",
              "654  Exposição de quadros de pintores locais atrai ...  Entretenimento   \n",
              "655  Aumento da criminalidade e da violência preocu...        Política   \n",
              "\n",
              "                                 textos preprocessados  \n",
              "651  descobrir novo evidencia sobre vida outro plan...  \n",
              "652  empresa tecnologia criar aplicativo facilitar ...  \n",
              "653  novo tratamento doenco degenerativo apresentar...  \n",
              "654  exposicao quadro pintor local atrair morador v...  \n",
              "655  aumento criminalidade violencia preocupar mora...  "
            ],
            "text/html": [
              "\n",
              "  <div id=\"df-9d1c3a12-f965-41a1-b5db-6ba9314c4de7\" class=\"colab-df-container\">\n",
              "    <div>\n",
              "<style scoped>\n",
              "    .dataframe tbody tr th:only-of-type {\n",
              "        vertical-align: middle;\n",
              "    }\n",
              "\n",
              "    .dataframe tbody tr th {\n",
              "        vertical-align: top;\n",
              "    }\n",
              "\n",
              "    .dataframe thead th {\n",
              "        text-align: right;\n",
              "    }\n",
              "</style>\n",
              "<table border=\"1\" class=\"dataframe\">\n",
              "  <thead>\n",
              "    <tr style=\"text-align: right;\">\n",
              "      <th></th>\n",
              "      <th>texto</th>\n",
              "      <th>categoria</th>\n",
              "      <th>textos preprocessados</th>\n",
              "    </tr>\n",
              "  </thead>\n",
              "  <tbody>\n",
              "    <tr>\n",
              "      <th>651</th>\n",
              "      <td>Descoberta de novas evidências sobre a vida em...</td>\n",
              "      <td>Ciência</td>\n",
              "      <td>descobrir novo evidencia sobre vida outro plan...</td>\n",
              "    </tr>\n",
              "    <tr>\n",
              "      <th>652</th>\n",
              "      <td>Empresa de tecnologia cria aplicativo que faci...</td>\n",
              "      <td>Tecnologia</td>\n",
              "      <td>empresa tecnologia criar aplicativo facilitar ...</td>\n",
              "    </tr>\n",
              "    <tr>\n",
              "      <th>653</th>\n",
              "      <td>Novo tratamento para doenças degenerativas apr...</td>\n",
              "      <td>Saúde</td>\n",
              "      <td>novo tratamento doenco degenerativo apresentar...</td>\n",
              "    </tr>\n",
              "    <tr>\n",
              "      <th>654</th>\n",
              "      <td>Exposição de quadros de pintores locais atrai ...</td>\n",
              "      <td>Entretenimento</td>\n",
              "      <td>exposicao quadro pintor local atrair morador v...</td>\n",
              "    </tr>\n",
              "    <tr>\n",
              "      <th>655</th>\n",
              "      <td>Aumento da criminalidade e da violência preocu...</td>\n",
              "      <td>Política</td>\n",
              "      <td>aumento criminalidade violencia preocupar mora...</td>\n",
              "    </tr>\n",
              "  </tbody>\n",
              "</table>\n",
              "</div>\n",
              "    <div class=\"colab-df-buttons\">\n",
              "\n",
              "  <div class=\"colab-df-container\">\n",
              "    <button class=\"colab-df-convert\" onclick=\"convertToInteractive('df-9d1c3a12-f965-41a1-b5db-6ba9314c4de7')\"\n",
              "            title=\"Convert this dataframe to an interactive table.\"\n",
              "            style=\"display:none;\">\n",
              "\n",
              "  <svg xmlns=\"http://www.w3.org/2000/svg\" height=\"24px\" viewBox=\"0 -960 960 960\">\n",
              "    <path d=\"M120-120v-720h720v720H120Zm60-500h600v-160H180v160Zm220 220h160v-160H400v160Zm0 220h160v-160H400v160ZM180-400h160v-160H180v160Zm440 0h160v-160H620v160ZM180-180h160v-160H180v160Zm440 0h160v-160H620v160Z\"/>\n",
              "  </svg>\n",
              "    </button>\n",
              "\n",
              "  <style>\n",
              "    .colab-df-container {\n",
              "      display:flex;\n",
              "      gap: 12px;\n",
              "    }\n",
              "\n",
              "    .colab-df-convert {\n",
              "      background-color: #E8F0FE;\n",
              "      border: none;\n",
              "      border-radius: 50%;\n",
              "      cursor: pointer;\n",
              "      display: none;\n",
              "      fill: #1967D2;\n",
              "      height: 32px;\n",
              "      padding: 0 0 0 0;\n",
              "      width: 32px;\n",
              "    }\n",
              "\n",
              "    .colab-df-convert:hover {\n",
              "      background-color: #E2EBFA;\n",
              "      box-shadow: 0px 1px 2px rgba(60, 64, 67, 0.3), 0px 1px 3px 1px rgba(60, 64, 67, 0.15);\n",
              "      fill: #174EA6;\n",
              "    }\n",
              "\n",
              "    .colab-df-buttons div {\n",
              "      margin-bottom: 4px;\n",
              "    }\n",
              "\n",
              "    [theme=dark] .colab-df-convert {\n",
              "      background-color: #3B4455;\n",
              "      fill: #D2E3FC;\n",
              "    }\n",
              "\n",
              "    [theme=dark] .colab-df-convert:hover {\n",
              "      background-color: #434B5C;\n",
              "      box-shadow: 0px 1px 3px 1px rgba(0, 0, 0, 0.15);\n",
              "      filter: drop-shadow(0px 1px 2px rgba(0, 0, 0, 0.3));\n",
              "      fill: #FFFFFF;\n",
              "    }\n",
              "  </style>\n",
              "\n",
              "    <script>\n",
              "      const buttonEl =\n",
              "        document.querySelector('#df-9d1c3a12-f965-41a1-b5db-6ba9314c4de7 button.colab-df-convert');\n",
              "      buttonEl.style.display =\n",
              "        google.colab.kernel.accessAllowed ? 'block' : 'none';\n",
              "\n",
              "      async function convertToInteractive(key) {\n",
              "        const element = document.querySelector('#df-9d1c3a12-f965-41a1-b5db-6ba9314c4de7');\n",
              "        const dataTable =\n",
              "          await google.colab.kernel.invokeFunction('convertToInteractive',\n",
              "                                                    [key], {});\n",
              "        if (!dataTable) return;\n",
              "\n",
              "        const docLinkHtml = 'Like what you see? Visit the ' +\n",
              "          '<a target=\"_blank\" href=https://colab.research.google.com/notebooks/data_table.ipynb>data table notebook</a>'\n",
              "          + ' to learn more about interactive tables.';\n",
              "        element.innerHTML = '';\n",
              "        dataTable['output_type'] = 'display_data';\n",
              "        await google.colab.output.renderOutput(dataTable, element);\n",
              "        const docLink = document.createElement('div');\n",
              "        docLink.innerHTML = docLinkHtml;\n",
              "        element.appendChild(docLink);\n",
              "      }\n",
              "    </script>\n",
              "  </div>\n",
              "\n",
              "\n",
              "<div id=\"df-05b3396f-7b29-429d-b387-442ba0b51712\">\n",
              "  <button class=\"colab-df-quickchart\" onclick=\"quickchart('df-05b3396f-7b29-429d-b387-442ba0b51712')\"\n",
              "            title=\"Suggest charts\"\n",
              "            style=\"display:none;\">\n",
              "\n",
              "<svg xmlns=\"http://www.w3.org/2000/svg\" height=\"24px\"viewBox=\"0 0 24 24\"\n",
              "     width=\"24px\">\n",
              "    <g>\n",
              "        <path d=\"M19 3H5c-1.1 0-2 .9-2 2v14c0 1.1.9 2 2 2h14c1.1 0 2-.9 2-2V5c0-1.1-.9-2-2-2zM9 17H7v-7h2v7zm4 0h-2V7h2v10zm4 0h-2v-4h2v4z\"/>\n",
              "    </g>\n",
              "</svg>\n",
              "  </button>\n",
              "\n",
              "<style>\n",
              "  .colab-df-quickchart {\n",
              "      --bg-color: #E8F0FE;\n",
              "      --fill-color: #1967D2;\n",
              "      --hover-bg-color: #E2EBFA;\n",
              "      --hover-fill-color: #174EA6;\n",
              "      --disabled-fill-color: #AAA;\n",
              "      --disabled-bg-color: #DDD;\n",
              "  }\n",
              "\n",
              "  [theme=dark] .colab-df-quickchart {\n",
              "      --bg-color: #3B4455;\n",
              "      --fill-color: #D2E3FC;\n",
              "      --hover-bg-color: #434B5C;\n",
              "      --hover-fill-color: #FFFFFF;\n",
              "      --disabled-bg-color: #3B4455;\n",
              "      --disabled-fill-color: #666;\n",
              "  }\n",
              "\n",
              "  .colab-df-quickchart {\n",
              "    background-color: var(--bg-color);\n",
              "    border: none;\n",
              "    border-radius: 50%;\n",
              "    cursor: pointer;\n",
              "    display: none;\n",
              "    fill: var(--fill-color);\n",
              "    height: 32px;\n",
              "    padding: 0;\n",
              "    width: 32px;\n",
              "  }\n",
              "\n",
              "  .colab-df-quickchart:hover {\n",
              "    background-color: var(--hover-bg-color);\n",
              "    box-shadow: 0 1px 2px rgba(60, 64, 67, 0.3), 0 1px 3px 1px rgba(60, 64, 67, 0.15);\n",
              "    fill: var(--button-hover-fill-color);\n",
              "  }\n",
              "\n",
              "  .colab-df-quickchart-complete:disabled,\n",
              "  .colab-df-quickchart-complete:disabled:hover {\n",
              "    background-color: var(--disabled-bg-color);\n",
              "    fill: var(--disabled-fill-color);\n",
              "    box-shadow: none;\n",
              "  }\n",
              "\n",
              "  .colab-df-spinner {\n",
              "    border: 2px solid var(--fill-color);\n",
              "    border-color: transparent;\n",
              "    border-bottom-color: var(--fill-color);\n",
              "    animation:\n",
              "      spin 1s steps(1) infinite;\n",
              "  }\n",
              "\n",
              "  @keyframes spin {\n",
              "    0% {\n",
              "      border-color: transparent;\n",
              "      border-bottom-color: var(--fill-color);\n",
              "      border-left-color: var(--fill-color);\n",
              "    }\n",
              "    20% {\n",
              "      border-color: transparent;\n",
              "      border-left-color: var(--fill-color);\n",
              "      border-top-color: var(--fill-color);\n",
              "    }\n",
              "    30% {\n",
              "      border-color: transparent;\n",
              "      border-left-color: var(--fill-color);\n",
              "      border-top-color: var(--fill-color);\n",
              "      border-right-color: var(--fill-color);\n",
              "    }\n",
              "    40% {\n",
              "      border-color: transparent;\n",
              "      border-right-color: var(--fill-color);\n",
              "      border-top-color: var(--fill-color);\n",
              "    }\n",
              "    60% {\n",
              "      border-color: transparent;\n",
              "      border-right-color: var(--fill-color);\n",
              "    }\n",
              "    80% {\n",
              "      border-color: transparent;\n",
              "      border-right-color: var(--fill-color);\n",
              "      border-bottom-color: var(--fill-color);\n",
              "    }\n",
              "    90% {\n",
              "      border-color: transparent;\n",
              "      border-bottom-color: var(--fill-color);\n",
              "    }\n",
              "  }\n",
              "</style>\n",
              "\n",
              "  <script>\n",
              "    async function quickchart(key) {\n",
              "      const quickchartButtonEl =\n",
              "        document.querySelector('#' + key + ' button');\n",
              "      quickchartButtonEl.disabled = true;  // To prevent multiple clicks.\n",
              "      quickchartButtonEl.classList.add('colab-df-spinner');\n",
              "      try {\n",
              "        const charts = await google.colab.kernel.invokeFunction(\n",
              "            'suggestCharts', [key], {});\n",
              "      } catch (error) {\n",
              "        console.error('Error during call to suggestCharts:', error);\n",
              "      }\n",
              "      quickchartButtonEl.classList.remove('colab-df-spinner');\n",
              "      quickchartButtonEl.classList.add('colab-df-quickchart-complete');\n",
              "    }\n",
              "    (() => {\n",
              "      let quickchartButtonEl =\n",
              "        document.querySelector('#df-05b3396f-7b29-429d-b387-442ba0b51712 button');\n",
              "      quickchartButtonEl.style.display =\n",
              "        google.colab.kernel.accessAllowed ? 'block' : 'none';\n",
              "    })();\n",
              "  </script>\n",
              "</div>\n",
              "\n",
              "    </div>\n",
              "  </div>\n"
            ],
            "application/vnd.google.colaboratory.intrinsic+json": {
              "type": "dataframe",
              "summary": "{\n  \"name\": \"df\",\n  \"rows\": 5,\n  \"fields\": [\n    {\n      \"column\": \"texto\",\n      \"properties\": {\n        \"dtype\": \"string\",\n        \"num_unique_values\": 5,\n        \"samples\": [\n          \"Empresa de tecnologia cria aplicativo que facilita a vida de pessoas com defici\\u00eancia.\",\n          \"Aumento da criminalidade e da viol\\u00eancia preocupa moradores de todo o pa\\u00eds.\",\n          \"Novo tratamento para doen\\u00e7as degenerativas apresenta resultados promissores.\"\n        ],\n        \"semantic_type\": \"\",\n        \"description\": \"\"\n      }\n    },\n    {\n      \"column\": \"categoria\",\n      \"properties\": {\n        \"dtype\": \"string\",\n        \"num_unique_values\": 5,\n        \"samples\": [\n          \"Tecnologia\",\n          \"Pol\\u00edtica\",\n          \"Sa\\u00fade\"\n        ],\n        \"semantic_type\": \"\",\n        \"description\": \"\"\n      }\n    },\n    {\n      \"column\": \"textos preprocessados\",\n      \"properties\": {\n        \"dtype\": \"string\",\n        \"num_unique_values\": 5,\n        \"samples\": [\n          \"empresa tecnologia criar aplicativo facilitar vido pessoa deficienciar\",\n          \"aumento criminalidade violencia preocupar morador todo pai\",\n          \"novo tratamento doenco degenerativo apresentar resultado promissor\"\n        ],\n        \"semantic_type\": \"\",\n        \"description\": \"\"\n      }\n    }\n  ]\n}"
            }
          },
          "metadata": {},
          "execution_count": 22
        }
      ],
      "execution_count": 22
    },
    {
      "cell_type": "markdown",
      "source": [
        "## Vetorização e Treinamento\n",
        "- Foi definido durante a vetorização um N-Grama `1,2` para preservar uma palavra, e em seguida, a mesma palavra com a seguinte. O objetivo disso é manter a sintaxe das frases e trazer mais sentido aos textos.\n",
        "\n",
        "- Durante a divisão dos dados para o treinamento, eu fui ajustando os valores até obter um bom resultado das métricas, fixando o `teste_size=0.3`, random em `42` e espeficicando o `stratify` como a `categoria`.\n",
        "\n",
        "- Como os valores estão desbalanceados, utilzei a regressão logística e atribui o peso `balanced`.\n",
        "\n",
        "- Após observar métricas insatisfatórias, precisei implementar o Grid Search com validação cruzada. Isso ajudou muito a performance e eficácia do treinamento."
      ],
      "metadata": {
        "id": "hQLxnGsz4fil",
        "papermill": {
          "duration": null,
          "end_time": null,
          "exception": null,
          "start_time": null,
          "status": "pending"
        },
        "tags": []
      }
    },
    {
      "cell_type": "code",
      "source": [
        "#------------------\n",
        "# Vetorização TF-IDF\n",
        "vectorizer = TfidfVectorizer(ngram_range=(1,2))\n",
        "X = vectorizer.fit_transform(df['textos preprocessados'])\n",
        "y = df['categoria']\n",
        "\n",
        "\n",
        "#------------------\n",
        "# Divisão dos dados\n",
        "X_train, X_test, y_train, y_test = train_test_split(X, y, test_size=0.3, random_state=42, stratify=y)\n",
        "\n",
        "#------------------\n",
        "# Treinamento do modelo (Regressão Logística)\n",
        "model = LogisticRegression(class_weight='balanced')\n",
        "model.fit(X_train, y_train)\n",
        "\n",
        "print(\"Shape X_train:\", X_train.shape)\n",
        "print(\"Shape X_test:\", X_test.shape)\n",
        "\n",
        "#------------------\n",
        "# Grid Search com Validação Cruzada\n",
        "param_grid = {'C': [0.1, 1, 10, 100],\n",
        "              'solver': ['liblinear', 'lbfgs'],\n",
        "              'penalty': ['l1', 'l2']}\n",
        "\n",
        "cv = StratifiedKFold(n_splits=5, shuffle=True, random_state=42)\n",
        "\n",
        "grid_search = GridSearchCV(model, param_grid, cv=cv, scoring='accuracy', n_jobs=-1) # Usar todos os núcleos para grid search\n",
        "grid_search.fit(X_train, y_train)\n",
        "\n",
        "best_model = grid_search.best_estimator_\n",
        "best_params = grid_search.best_params_\n",
        "\n",
        "#------------------\n",
        "# Avaliação no conjunto de teste\n",
        "y_pred = best_model.predict(X_test)\n",
        "print(f'\\nMelhores Parâmetros: {best_params}')\n",
        "print(f\"\\n>> Acurácia: {(accuracy_score(y_test, y_pred) * 100):.1f}%\")\n",
        "print(f\">> Precisão: {(precision_score(y_test, y_pred, average='weighted') * 100):.1f}%\")\n",
        "print(f\">> Recall: {(recall_score(y_test, y_pred, average='weighted') * 100):.1f}%\")\n",
        "print(f\">> F1-score: {(f1_score(y_test, y_pred, average='weighted') * 100):.1f}%\")"
      ],
      "metadata": {
        "id": "qIVBbidO4hZ0",
        "outputId": "858549b9-333e-43a9-90e3-b8fbc96ed438",
        "papermill": {
          "duration": null,
          "end_time": null,
          "exception": null,
          "start_time": null,
          "status": "pending"
        },
        "tags": [],
        "trusted": true,
        "execution": {
          "iopub.status.busy": "2025-01-28T19:40:35.041021Z",
          "iopub.execute_input": "2025-01-28T19:40:35.041394Z",
          "iopub.status.idle": "2025-01-28T19:40:41.902124Z",
          "shell.execute_reply.started": "2025-01-28T19:40:35.041361Z",
          "shell.execute_reply": "2025-01-28T19:40:41.900996Z"
        },
        "colab": {
          "base_uri": "https://localhost:8080/"
        }
      },
      "outputs": [
        {
          "output_type": "stream",
          "name": "stdout",
          "text": [
            "Shape X_train: (459, 3780)\n",
            "Shape X_test: (197, 3780)\n",
            "\n",
            "Melhores Parâmetros: {'C': 100, 'penalty': 'l2', 'solver': 'liblinear'}\n",
            "\n",
            ">> Acurácia: 93.9%\n",
            ">> Precisão: 94.0%\n",
            ">> Recall: 93.9%\n",
            ">> F1-score: 93.8%\n"
          ]
        }
      ],
      "execution_count": 23
    },
    {
      "cell_type": "code",
      "source": [
        "print(\"\\nRelatório de Classificação:\\n\\n\", classification_report(y_test, y_pred, zero_division=0))"
      ],
      "metadata": {
        "id": "TSfZQe9XE0p-",
        "outputId": "2dd2147b-8a08-4794-cf9a-a83184a92c4d",
        "papermill": {
          "duration": null,
          "end_time": null,
          "exception": null,
          "start_time": null,
          "status": "pending"
        },
        "tags": [],
        "trusted": true,
        "execution": {
          "iopub.status.busy": "2025-01-28T19:40:47.780531Z",
          "iopub.execute_input": "2025-01-28T19:40:47.780971Z",
          "iopub.status.idle": "2025-01-28T19:40:47.804923Z",
          "shell.execute_reply.started": "2025-01-28T19:40:47.780939Z",
          "shell.execute_reply": "2025-01-28T19:40:47.803690Z"
        },
        "colab": {
          "base_uri": "https://localhost:8080/"
        }
      },
      "outputs": [
        {
          "output_type": "stream",
          "name": "stdout",
          "text": [
            "\n",
            "Relatório de Classificação:\n",
            "\n",
            "                 precision    recall  f1-score   support\n",
            "\n",
            "       Ciência       0.90      0.86      0.88        21\n",
            "      Economia       1.00      0.96      0.98        26\n",
            "Entretenimento       0.93      1.00      0.96        37\n",
            "       Esporte       1.00      0.94      0.97        18\n",
            " Meio Ambiente       0.85      0.94      0.89        18\n",
            "      Política       0.94      1.00      0.97        31\n",
            "         Saúde       0.90      0.79      0.84        24\n",
            "    Tecnologia       1.00      0.95      0.98        22\n",
            "\n",
            "      accuracy                           0.94       197\n",
            "     macro avg       0.94      0.93      0.93       197\n",
            "  weighted avg       0.94      0.94      0.94       197\n",
            "\n"
          ]
        }
      ],
      "execution_count": 24
    },
    {
      "cell_type": "markdown",
      "source": [
        "Com o `F1-score` em 94% será o suficiente para aplicar meu modelo com novos dados e testar minhas previsões."
      ],
      "metadata": {
        "id": "xaZm0YyMrlTu",
        "papermill": {
          "duration": null,
          "end_time": null,
          "exception": null,
          "start_time": null,
          "status": "pending"
        },
        "tags": []
      }
    },
    {
      "cell_type": "markdown",
      "source": [
        "## Aplicando modelo com novos dados"
      ],
      "metadata": {
        "papermill": {
          "duration": null,
          "end_time": null,
          "exception": null,
          "start_time": null,
          "status": "pending"
        },
        "tags": [],
        "id": "71O5fqmxmQdt"
      }
    },
    {
      "cell_type": "code",
      "source": [
        "# Novas amostras para serem previstas\n",
        "novos_coments = [\n",
        "    \"Bolsonaro aposta na influência de Trump para tentar reverter inelegibilidade.\",\n",
        "    \"O mistério de por que a covid-19 parece estar se tornando menos letal\",\n",
        "    \"Coldplay transmite maior show ao vivo na Índia pelo Disney+\",\n",
        "    \"O valor do dolar está cada vez mais alto chegando a quase 7 reais.\"\n",
        "]\n",
        "novos_coments_preprocessados = [pre_processamento_texto(review) for review in novos_coments]\n",
        "novos_coments_vetorizados = vectorizer.transform(novos_coments_preprocessados)\n",
        "novos_coments_previsao = model.predict(novos_coments_vetorizados)\n",
        "\n",
        "for review, prediction in zip(novos_coments, novos_coments_previsao):\n",
        "    print(f\"Comentário: {review} - Previsão: {prediction}\\n\")"
      ],
      "metadata": {
        "id": "sovj5a6ZLiC5",
        "outputId": "e0bb118a-628b-498b-aa75-88924f89a657",
        "papermill": {
          "duration": null,
          "end_time": null,
          "exception": null,
          "start_time": null,
          "status": "pending"
        },
        "tags": [],
        "trusted": true,
        "execution": {
          "iopub.status.busy": "2025-01-28T19:40:51.367418Z",
          "iopub.execute_input": "2025-01-28T19:40:51.367823Z",
          "iopub.status.idle": "2025-01-28T19:40:51.414336Z",
          "shell.execute_reply.started": "2025-01-28T19:40:51.367791Z",
          "shell.execute_reply": "2025-01-28T19:40:51.413226Z"
        },
        "colab": {
          "base_uri": "https://localhost:8080/"
        }
      },
      "outputs": [
        {
          "output_type": "stream",
          "name": "stdout",
          "text": [
            "Comentário: Bolsonaro aposta na influência de Trump para tentar reverter inelegibilidade. - Previsão: Política\n",
            "\n",
            "Comentário: O mistério de por que a covid-19 parece estar se tornando menos letal - Previsão: Saúde\n",
            "\n",
            "Comentário: Coldplay transmite maior show ao vivo na Índia pelo Disney+ - Previsão: Entretenimento\n",
            "\n",
            "Comentário: O valor do dolar está cada vez mais alto chegando a quase 7 reais. - Previsão: Economia\n",
            "\n"
          ]
        }
      ],
      "execution_count": 25
    },
    {
      "cell_type": "markdown",
      "source": [
        "## Conclusão"
      ],
      "metadata": {
        "id": "6Qq3RVJ6sGHd",
        "papermill": {
          "duration": null,
          "end_time": null,
          "exception": null,
          "start_time": null,
          "status": "pending"
        },
        "tags": []
      }
    },
    {
      "cell_type": "markdown",
      "source": [
        "\n",
        "- Ao aplicar Oversampling, foi definido um balanceamento para que todas as categorias tivessem 125 amostras. Os resultados foram bons com métricas em torno de 98%. No entanto, o modelo ainda não conseguia avaliar novas amostragens com perfeição.\n",
        "\n",
        "- Ao aplicar Ponderação de Classes, pude atribuir pesos diferentes às categorias usando parâmetros com sklearn na `LogisticRegression`. Os resultados foram bons com métricas em torno de 94%. E o modelo está prevendo bem as novas amostras, tornando mais ideal para este projeto.\n",
        "\n",
        "- Foram adicionadas 4 amostras para previsão e o modelo conseguiu prever corretamente as frases\n",
        "    - 1ª frase: previsão esperada `Política`\n",
        "    - 2ª frase: previsão esperada `Saúde`\n",
        "    - 3ª frase: previsão esperada `Entrenenimento`\n",
        "    - 4ª frase: previsão esperada `Economia`\n",
        "\n",
        "- Futuramente, pretendo encontrar ou acrescentar novas amostras para treinar o modelo com mais categorias."
      ],
      "metadata": {
        "id": "BmyOxF4BZ1Q2",
        "papermill": {
          "duration": null,
          "end_time": null,
          "exception": null,
          "start_time": null,
          "status": "pending"
        },
        "tags": []
      }
    }
  ]
}